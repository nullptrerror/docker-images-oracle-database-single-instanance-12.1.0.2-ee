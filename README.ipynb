{
 "cells": [
  {
   "cell_type": "markdown",
   "metadata": {},
   "source": [
    "# Navigating OracleDB in Docker & Crafting a .NET 6 API!\n",
    "\n",
    "Hey Tech Enthusiasts! 🌟 Join me live as I delve into the world of Docker and Oracle Database. We're setting up an OracleDB from scratch.\n",
    "\n",
    "[twitch.tv/nullptrerrorasync/](https://www.twitch.tv/nullptrerrorasync/)\n",
    "\n",
    "## Getting Started README\n",
    "[Getting Started ./README.md](./README.md)\n",
    "\n",
    "## Git\n",
    "\n",
    "### Branching Strategy\n",
    "1. `origin/main` Branch:\n",
    "   * This is your production branch. Code here is always deployable. It reflects the current state of your production environment.\n",
    "2. `origin/development` Branch:\n",
    "   * A semi-stable branch where features and fixes are merged regularly.\n",
    "   * This branch acts as a buffer for `origin/main`.\n",
    "   * Regular builds and tests run against this branch.\n",
    "3. `origin/feature/xyz` Branches:\n",
    "   * For new features or non-critical fixes.\n",
    "   * These are branched off `origin/development` and are merged back into `origin/development` once complete.\n",
    "4. `origin/release/xyz` Branch:\n",
    "   * When `origin/development` is ready for a **production release**, it's branched to a `origin/release/xyz` branch.\n",
    "   * Any final tweaks or pre-release fixes happen here.\n",
    "   * After successful testing, this branch is merged to main and tagged.\n",
    "5. `origin/hotfix/xyz` Branches:\n",
    "   * For critical fixes needed in production.\n",
    "   * These are branched off `origin/main`, fixed, tested, and then merged back into both `origin/main` and `origin/development`.\n",
    "6. `origin/environment/xyz` Branches:\n",
    "   * To support multiple environments (like `origin/environment/webServer01` or `origin/environment/webServer02`), environment-specific branches can be created.\n",
    "   * For example, there might be a `origin/environment/webServer01` branch. When you want to deploy to the `webServer01` environment, you merge `origin/main` into `origin/environment/webServer01`.\n",
    "\n",
    "### Version Strategy with GitVersion\n",
    "\n",
    "Use `Major`.`Minor`.`Patch` versioning with manual control over `Major` and `Minor` bumps.\n",
    "Let Patch be automatic. This method relies less on commit messages or branch names.\n",
    "\n",
    "1. `origin/main` Branch: Whenever a `origin/release/xyz` branch is merged into `origin/main`, it's tagged manually with the `origin/release/xyz` version (e.g., 2.3.0).\n",
    "2. `origin/development` Branch: Inherits the version from `origin/main` but with an additional -alpha or -beta tag. So if main is on 2.3.0, `origin/development` might be 2.3.1-alpha.1. With each merge into `origin/development`, the number after -alpha. or -beta. increments.\n",
    "3. `origin/feature/xyz` Branches: Inherits the version from `origin/development`. No unique versioning is required.\n",
    "4. `origin/release/x.y.z` Branches: Once branched off `origin/development`, the -alpha or -beta tag is dropped. Any commits in this branch increase the Patch number. E.g., from 2.3.1 to 2.3.2.\n",
    "5. `origin/hotfix/x.y.z` Branches: These branches will increment the Patch version from the current production version in `origin/main`.\n",
    "6. Protection and Tagging\n",
    "   * Protect important branches (like `origin/main` and `origin/environment/webdev01` branches) to prevent direct pushes. Instead, use merge requests (or pull requests in GitHub terms) to ensure that code is reviewed before being merged.\n",
    "   * Use tags to mark specific points in the `origin/main` branch as production `origin/release/`, making it easy to track and revert to specific versions if necessary."
   ]
  },
  {
   "cell_type": "markdown",
   "metadata": {},
   "source": [
    "### Global Powershell Helpers\n",
    "\n",
    "#### Global Helper Functions"
   ]
  },
  {
   "cell_type": "code",
   "execution_count": 1,
   "metadata": {
    "dotnet_interactive": {
     "language": "pwsh"
    },
    "polyglot_notebook": {
     "kernelName": "pwsh"
    },
    "vscode": {
     "languageId": "polyglot-notebook"
    }
   },
   "outputs": [],
   "source": [
    "# Make Assign and RunAndLog functions available to all scripts\n",
    "function Assign([string]$VariableName, $Value) {\n",
    "    Set-Variable -Scope Script -Name $VariableName -Value $Value\n",
    "    if ($Value -eq $null -or $Value -eq '' -or $Value -match '^\\s+$' -or $Value -match '^\\t+$' -or $Value -match '^\\n+$') { Write-Host \"`$script:$VariableName = `$null\" -ForegroundColor DarkGray }\n",
    "    else { Write-Host \"`$script:$VariableName = `$Value\"; $Value }\n",
    "}\n",
    "function RunAndLog([System.Object[]]$ScriptBlocks) {\n",
    "    $OriginalErrorActionPreference = $ErrorActionPreference\n",
    "    foreach ($ScriptBlock in $ScriptBlocks) {\n",
    "        $ErrorActionPreference = 'Continue'\n",
    "        Write-Host \"$(Get-Date -Format 'hh-mm-ss-fff-tt')>pwsh$($ScriptBlock.Code.ToString() -replace '\\[', '［' -replace '\\]', '］')\" -ForegroundColor Cyan\n",
    "        $outputData = @()\n",
    "        $errorData = @()\n",
    "        & $ScriptBlock.Code 2>&1 | ForEach-Object { if ($_ -is [System.Management.Automation.ErrorRecord]) { $errorData += $_ } else { $outputData += $_ } }\n",
    "        $outputData | ForEach-Object { Write-Output $_ }\n",
    "        $errorData | ForEach-Object {  if ($ScriptBlock.Required) {\n",
    "            $ErrorActionPreference = 'Stop'\n",
    "            throw $_;\n",
    "        } else { Write-Output $_ } }\n",
    "    }\n",
    "    $ErrorActionPreference = $OriginalErrorActionPreference\n",
    "}"
   ]
  },
  {
   "cell_type": "markdown",
   "metadata": {},
   "source": [
    "#### Clean Project Up Functions"
   ]
  },
  {
   "cell_type": "code",
   "execution_count": 2,
   "metadata": {
    "dotnet_interactive": {
     "language": "pwsh"
    },
    "polyglot_notebook": {
     "kernelName": "pwsh"
    },
    "vscode": {
     "languageId": "polyglot-notebook"
    }
   },
   "outputs": [
    {
     "name": "stdout",
     "output_type": "stream",
     "text": [
      "\u001b[96m07-49-51-625-PM>pwsh Assign 'branchesR' (git branch -r) \u001b[0m\n",
      "\u001b[90m$script:branchesR = $null\u001b[0m\n",
      "\u001b[31;1mfatal: not a git repository (or any of the parent directories): .git\u001b[0m\n",
      "\u001b[96m07-49-52-053-PM>pwsh Assign 'branchesRFiltered' ($script:branchesR | Where-Object { $_ -match 'origin/(［^ ］+)' } | ForEach-Object { $matches［1］ }) \u001b[0m\n",
      "\u001b[90m$script:branchesRFiltered = $null\u001b[0m\n",
      "\u001b[96m07-49-52-057-PM>pwsh Assign 'branchesRFilteredDeleted' ($script:branchesRFiltered | ForEach-Object { git push origin --delete $_ -v }) \u001b[0m\n",
      "\u001b[90m$script:branchesRFilteredDeleted = $null\u001b[0m\n",
      "\u001b[31;1mfatal: not a git repository (or any of the parent directories): .git\u001b[0m\n",
      "\u001b[96m07-49-52-484-PM>pwsh Assign 'branches' (git branch) \u001b[0m\n",
      "\u001b[90m$script:branches = $null\u001b[0m\n",
      "\u001b[31;1mfatal: not a git repository (or any of the parent directories): .git\u001b[0m\n",
      "\u001b[96m07-49-52-997-PM>pwsh Assign 'branchesFiltered' ($script:branches | Where-Object { $_ -notmatch '^\\*' }) \u001b[0m\n",
      "\u001b[90m$script:branchesFiltered = $null\u001b[0m\n",
      "\u001b[96m07-49-52-998-PM>pwsh Assign 'branchesFilteredNames' ($script:branchesFiltered | ForEach-Object { $_.Trim() }) \u001b[0m\n",
      "\u001b[90m$script:branchesFilteredNames = $null\u001b[0m\n",
      "\u001b[31;1mInvalidOperation: \u001b[0m\n",
      "\u001b[31;1m\u001b[36;1mLine |\u001b[0m\n",
      "\u001b[31;1m\u001b[36;1m\u001b[36;1m  25 | \u001b[0m … redNames' ($script:branchesFiltered | ForEach-Object { \u001b[36;1m$_.Trim()\u001b[0m }) }\u001b[0m\n",
      "\u001b[31;1m\u001b[36;1m\u001b[36;1m\u001b[0m\u001b[36;1m\u001b[0m\u001b[36;1m     | \u001b[31;1m                                                          ~~~~~~~~~\u001b[0m\n",
      "\u001b[31;1m\u001b[36;1m\u001b[36;1m\u001b[0m\u001b[36;1m\u001b[0m\u001b[36;1m\u001b[31;1m\u001b[31;1m\u001b[36;1m     | \u001b[31;1mYou cannot call a method on a null-valued expression.\u001b[0m\n",
      "\u001b[96m07-49-53-054-PM>pwsh Assign 'branchesFilteredDeleted' ($script:branchesFilteredNames | ForEach-Object { git branch -d $_ -v }) \u001b[0m\n",
      "\u001b[90m$script:branchesFilteredDeleted = $null\u001b[0m\n",
      "\u001b[31;1mfatal: not a git repository (or any of the parent directories): .git\u001b[0m\n",
      "\u001b[96m07-49-53-498-PM>pwsh Assign 'gitDir' (\"$PWD\\.git\") \u001b[0m\n",
      "$script:gitDir = $Value\n",
      "C:\\LocalRepo\\docker-images-oracle-database-single-instanance-12.1.0.2-ee\\.git\n",
      "\u001b[96m07-49-53-501-PM>pwsh Assign 'gitDirDeleted' (Remove-Item -Path $script:gitDir -Recurse -Force -Verbose) \u001b[0m\n",
      "\u001b[90m$script:gitDirDeleted = $null\u001b[0m\n",
      "\u001b[31;1mRemove-Item: \u001b[0m\n",
      "\u001b[31;1m\u001b[36;1mLine |\u001b[0m\n",
      "\u001b[31;1m\u001b[36;1m\u001b[36;1m  37 | \u001b[0m … irDeleted' (\u001b[36;1mRemove-Item -Path $script:gitDir -Recurse -Force -Verbose\u001b[0m …\u001b[0m\n",
      "\u001b[31;1m\u001b[36;1m\u001b[36;1m\u001b[0m\u001b[36;1m\u001b[0m\u001b[36;1m     | \u001b[31;1m               ~~~~~~~~~~~~~~~~~~~~~~~~~~~~~~~~~~~~~~~~~~~~~~~~~~~~~~~~~\u001b[0m\n",
      "\u001b[31;1m\u001b[36;1m\u001b[36;1m\u001b[0m\u001b[36;1m\u001b[0m\u001b[36;1m\u001b[31;1m\u001b[31;1m\u001b[36;1m     | \u001b[31;1mCannot find path 'C:\\LocalRepo\\docker-images-oracle-database-single-instanance-12.1.0.2-ee\\.git' because it does not exist.\u001b[0m\n",
      "\u001b[96m07-49-53-546-PM>pwsh Assign 'gitIgnoreDir' (\"$PWD\\.gitignore\") \u001b[0m\n",
      "$script:gitIgnoreDir = $Value\n",
      "C:\\LocalRepo\\docker-images-oracle-database-single-instanance-12.1.0.2-ee\\.gitignore\n",
      "\u001b[96m07-49-53-547-PM>pwsh Assign 'gitIgnoreDirDeleted' (Remove-Item -Path $script:gitIgnoreDir -Recurse -Force -Verbose) \u001b[0m\n",
      "\u001b[90m$script:gitIgnoreDirDeleted = $null\u001b[0m\n",
      "\u001b[31;1mRemove-Item: \u001b[0m\n",
      "\u001b[31;1m\u001b[36;1mLine |\u001b[0m\n",
      "\u001b[31;1m\u001b[36;1m\u001b[36;1m  45 | \u001b[0m … irDeleted' (\u001b[36;1mRemove-Item -Path $script:gitIgnoreDir -Recurse -Force -V\u001b[0m …\u001b[0m\n",
      "\u001b[31;1m\u001b[36;1m\u001b[36;1m\u001b[0m\u001b[36;1m\u001b[0m\u001b[36;1m     | \u001b[31;1m               ~~~~~~~~~~~~~~~~~~~~~~~~~~~~~~~~~~~~~~~~~~~~~~~~~~~~~~~~~\u001b[0m\n",
      "\u001b[31;1m\u001b[36;1m\u001b[36;1m\u001b[0m\u001b[36;1m\u001b[0m\u001b[36;1m\u001b[31;1m\u001b[31;1m\u001b[36;1m     | \u001b[31;1mCannot find path 'C:\\LocalRepo\\docker-images-oracle-database-single-instanance-12.1.0.2-ee\\.gitignore' because it does not exist.\u001b[0m\n"
     ]
    }
   ],
   "source": [
    "# Delete all local and remote branches and delete the .git folder for a clean start\n",
    "Invoke-Command -ScriptBlock {\n",
    "    RunAndLog -ScriptBlocks @(\n",
    "        @{\n",
    "            Code = { Assign 'branchesR' (git branch -r) }\n",
    "            Required = $false\n",
    "        },\n",
    "        @{\n",
    "            Code = { Assign 'branchesRFiltered' ($script:branchesR | Where-Object { $_ -match 'origin/([^ ]+)' } | ForEach-Object { $matches[1] }) }\n",
    "            Required = $false\n",
    "        },\n",
    "        @{\n",
    "            Code = { Assign 'branchesRFilteredDeleted' ($script:branchesRFiltered | ForEach-Object { git push origin --delete $_ -v }) }\n",
    "            Required = $false\n",
    "        },\n",
    "        @{\n",
    "            Code = { Assign 'branches' (git branch) }\n",
    "            Required = $false\n",
    "        },\n",
    "        @{\n",
    "            Code = { Assign 'branchesFiltered' ($script:branches | Where-Object { $_ -notmatch '^\\*' }) }\n",
    "            Required = $false\n",
    "        },\n",
    "        @{\n",
    "            Code = { Assign 'branchesFilteredNames' ($script:branchesFiltered | ForEach-Object { $_.Trim() }) }\n",
    "            Required = $false\n",
    "        },\n",
    "        @{\n",
    "            Code = { Assign 'branchesFilteredDeleted' ($script:branchesFilteredNames | ForEach-Object { git branch -d $_ -v }) }\n",
    "            Required = $false\n",
    "        },\n",
    "        @{\n",
    "            Code = { Assign 'gitDir' (\"$PWD\\.git\") }\n",
    "            Required = $false\n",
    "        }\n",
    "        @{\n",
    "            Code = { Assign 'gitDirDeleted' (Remove-Item -Path $script:gitDir -Recurse -Force -Verbose) }\n",
    "            Required = $false\n",
    "        },\n",
    "        @{\n",
    "            Code = { Assign 'gitIgnoreDir' (\"$PWD\\.gitignore\") }\n",
    "            Required = $false\n",
    "        },\n",
    "        @{\n",
    "            Code = { Assign 'gitIgnoreDirDeleted' (Remove-Item -Path $script:gitIgnoreDir -Recurse -Force -Verbose) }\n",
    "            Required = $false\n",
    "        }\n",
    "    )\n",
    "}"
   ]
  },
  {
   "cell_type": "markdown",
   "metadata": {
    "vscode": {
     "languageId": "polyglot-notebook"
    }
   },
   "source": [
    "### Initialize git repository with `git init .`"
   ]
  },
  {
   "cell_type": "code",
   "execution_count": 3,
   "metadata": {
    "dotnet_interactive": {
     "language": "pwsh"
    },
    "polyglot_notebook": {
     "kernelName": "pwsh"
    },
    "vscode": {
     "languageId": "polyglot-notebook"
    }
   },
   "outputs": [
    {
     "name": "stdout",
     "output_type": "stream",
     "text": [
      "\u001b[96m07-49-56-501-PM>pwsh Assign 'gitConfigInitDefaultBranch' (git config --global init.defaultBranch main) \u001b[0m\n",
      "\u001b[90m$script:gitConfigInitDefaultBranch = $null\u001b[0m\n",
      "\u001b[96m07-49-57-015-PM>pwsh Assign 'gitInit' (git init .) \u001b[0m\n",
      "$script:gitInit = $Value\n",
      "Initialized empty Git repository in C:/LocalRepo/docker-images-oracle-database-single-instanance-12.1.0.2-ee/.git/\n",
      "\u001b[96m07-49-57-548-PM>pwsh Assign 'gitConfigCoreAutocrlf' (git config core.autocrlf true) \u001b[0m\n",
      "\u001b[90m$script:gitConfigCoreAutocrlf = $null\u001b[0m\n"
     ]
    }
   ],
   "source": [
    "Invoke-Command -ScriptBlock {\n",
    "    RunAndLog -ScriptBlocks @(\n",
    "        @{\n",
    "            Code = { Assign 'gitConfigInitDefaultBranch' (git config --global init.defaultBranch main) }\n",
    "            Required = $true\n",
    "        },\n",
    "        @{\n",
    "            Code = { Assign 'gitInit' (git init .) }\n",
    "            Required = $true\n",
    "        },\n",
    "        @{\n",
    "            Code = { Assign 'gitConfigCoreAutocrlf' (git config core.autocrlf true) }\n",
    "            Required = $true\n",
    "        }\n",
    "    )\n",
    "}"
   ]
  },
  {
   "cell_type": "markdown",
   "metadata": {},
   "source": [
    "### Add the commit-msg git hook script to to define a standardregular expression for the commit message format"
   ]
  },
  {
   "cell_type": "code",
   "execution_count": 4,
   "metadata": {
    "dotnet_interactive": {
     "language": "pwsh"
    },
    "polyglot_notebook": {
     "kernelName": "pwsh"
    },
    "vscode": {
     "languageId": "polyglot-notebook"
    }
   },
   "outputs": [
    {
     "name": "stdout",
     "output_type": "stream",
     "text": [
      "\u001b[96m07-49-59-856-PM>pwsh Assign 'setContentOutput' (Set-Content -Path $script:hookScriptPath -Value $script:commitMsgScript) \u001b[0m\n",
      "\u001b[90m$script:setContentOutput = $null\u001b[0m\n",
      "\u001b[96m07-49-59-867-PM>pwsh Assign 'acl' (Get-Acl $script:hookScriptPath) \u001b[0m\n",
      "$script:acl = $Value\n",
      "\n",
      "\u001b[96m07-49-59-997-PM>pwsh Assign 'currentUser' (［System.Security.Principal.WindowsIdentity］::GetCurrent().User) \u001b[0m\n",
      "$script:currentUser = $Value\n",
      "\u001b[96m07-50-00-010-PM>pwsh Assign 'accessRule' (New-Object System.Security.AccessControl.FileSystemAccessRule($script:currentUser, ［System.Security.AccessControl.FileSystemRights］::ReadAndExecute, ［System.Security.AccessControl.AccessControlType］::Allow)) \u001b[0m\n",
      "$script:accessRule = $Value\n",
      "\u001b[96m07-50-00-020-PM>pwsh Assign 'aclAddAccessRule' ($script:acl.AddAccessRule($script:accessRule)) \u001b[0m\n",
      "\u001b[90m$script:aclAddAccessRule = $null\u001b[0m\n",
      "\u001b[96m07-50-00-022-PM>pwsh Assign 'setAclOutput' (Set-Acl -Path $script:hookScriptPath -AclObject $script:acl) \u001b[0m\n",
      "\u001b[90m$script:setAclOutput = $null\u001b[0m\n",
      "    Directory: C:\\LocalRepo\\docker-images-oracle-database-single-instanance-12.1.0.2-ee\\.git\\hooks\n",
      "\n",
      "\u001b[32;1mPath       Owner                 Access\u001b[0m\n",
      "\u001b[32;1m----       -----                 ------\u001b[0m\n",
      "commit-msg DESKTOP-EG8TKCA\\Mmati BUILTIN\\Administrators Allow  FullControl…\n",
      "\n",
      "\u001b[32;1mBinaryLength     : \u001b[0m28\n",
      "\u001b[32;1mAccountDomainSid : \u001b[0mS-1-5-21-3554905053-3031542722-783671403\n",
      "\u001b[32;1mValue            : \u001b[0mS-1-5-21-3554905053-3031542722-783671403-1001\n",
      "\n",
      "\n",
      "\u001b[32;1mFileSystemRights  : \u001b[0mReadAndExecute, Synchronize\n",
      "\u001b[32;1mAccessControlType : \u001b[0mAllow\n",
      "\u001b[32;1mIdentityReference : \u001b[0mS-1-5-21-3554905053-3031542722-783671403-1001\n",
      "\u001b[32;1mIsInherited       : \u001b[0mFalse\n",
      "\u001b[32;1mInheritanceFlags  : \u001b[0mNone\n",
      "\u001b[32;1mPropagationFlags  : \u001b[0mNone\n",
      "\n",
      "\n"
     ]
    }
   ],
   "source": [
    "Invoke-Command -ScriptBlock {\n",
    "    $script:hookScriptPath = \"$PWD\\.git\\hooks\\commit-msg\"\n",
    "    $script:commitMsgScript = @'\n",
    "\\#!/bin/sh\n",
    "commit_msg_file=$1\n",
    "commit_msg=$(cat \"$commit_msg_file\")\n",
    "# Define your regular expression for the commit message format\n",
    "commit_msg_regex='^(fix|feat|docs|test|devops|chore)\\(.*\\): .+$'\n",
    "    \n",
    "if ! echo \"$commit_msg\" | grep -Pq \"$commit_msg_regex\"; then\n",
    "    echo \"Error: Commit message format is invalid.\"\n",
    "    echo \"Commit Messages\"\n",
    "    echo \"Commit messages should follow the Semantic Commit Messages format:\"\n",
    "    echo \"\"\n",
    "    echo \"label(namespace): title\"\n",
    "    echo \"\"\n",
    "    echo \"label is one of the following:\"\n",
    "    echo \"  fix - Application bug fixes.\"\n",
    "    echo \"  feat - Application features.\"\n",
    "    echo \"  docs - changes to docs, e.g. docs(api.md): .. to change documentation.\"\n",
    "    echo \"  test - changes to Application tests infrastructure.\"\n",
    "    echo \"  devops - build-related work, e.g. CI related patches and general changes to the browser build infrastructure.\"\n",
    "    echo \"  chore - everything that doesn't fall under previous categories.\"\n",
    "    echo \"namespace is put in parenthesis after label and is optional. Must be lowercase.\"\n",
    "    echo \"title is a brief summary of changes.\"\n",
    "    echo \"description is optional, new-line separated from title and is in present tense.\"\n",
    "    echo \"footer is optional, new-line separated from description and contains 'fixes' / 'references' attribution to GitHub issues.\"\n",
    "    exit 1\n",
    "fi\n",
    "'@ -replace '^\\\\{1}', ''\n",
    "    RunAndLog -ScriptBlock @(\n",
    "        @{\n",
    "            Code = { Assign 'setContentOutput' (Set-Content -Path $script:hookScriptPath -Value $script:commitMsgScript) }\n",
    "            Required = $true\n",
    "        },\n",
    "        @{\n",
    "            Code = { Assign 'acl' (Get-Acl $script:hookScriptPath) }\n",
    "            Required = $true\n",
    "        },\n",
    "        @{\n",
    "            Code = { Assign 'currentUser' ([System.Security.Principal.WindowsIdentity]::GetCurrent().User) }\n",
    "            Required = $true\n",
    "        },\n",
    "        @{\n",
    "            Code = { Assign 'accessRule' (New-Object System.Security.AccessControl.FileSystemAccessRule($script:currentUser, [System.Security.AccessControl.FileSystemRights]::ReadAndExecute, [System.Security.AccessControl.AccessControlType]::Allow)) }\n",
    "            Required = $true\n",
    "        },\n",
    "        @{\n",
    "            Code = { Assign 'aclAddAccessRule' ($script:acl.AddAccessRule($script:accessRule)) }\n",
    "            Required = $true\n",
    "        },\n",
    "        @{\n",
    "            Code = { Assign 'setAclOutput' (Set-Acl -Path $script:hookScriptPath -AclObject $script:acl) }\n",
    "            Required = $true\n",
    "        }\n",
    "    )\n",
    "}"
   ]
  },
  {
   "cell_type": "markdown",
   "metadata": {},
   "source": [
    "### Add VisualStudio.gitignore"
   ]
  },
  {
   "cell_type": "code",
   "execution_count": 5,
   "metadata": {
    "dotnet_interactive": {
     "language": "pwsh"
    },
    "polyglot_notebook": {
     "kernelName": "pwsh"
    },
    "vscode": {
     "languageId": "polyglot-notebook"
    }
   },
   "outputs": [
    {
     "name": "stdout",
     "output_type": "stream",
     "text": [
      "\u001b[96m07-50-03-774-PM>pwsh Assign 'gitignoreContent' (Invoke-WebRequest -Uri $script:gitignoreUrl -ErrorAction Stop).Content \u001b[0m\r\n"
     ]
    },
    {
     "data": {
      "text/plain": []
     },
     "metadata": {},
     "output_type": "display_data"
    },
    {
     "name": "stdout",
     "output_type": "stream",
     "text": [
      "$script:gitignoreContent = $Value\n",
      "## Ignore Visual Studio temporary files, build results, and\n",
      "## files generated by popular Visual Studio add-ons.\n",
      "##\n",
      "## Get latest from https://github.com/github/gitignore/blob/main/VisualStudio.gitignore\n",
      "\n",
      "# User-specific files\n",
      "*.rsuser\n",
      "*.suo\n",
      "*.user\n",
      "*.userosscache\n",
      "*.sln.docstates\n",
      "\n",
      "# User-specific files (MonoDevelop/Xamarin Studio)\n",
      "*.userprefs\n",
      "\n",
      "# Mono auto generated files\n",
      "mono_crash.*\n",
      "\n",
      "# Build results\n",
      "[Dd]ebug/\n",
      "[Dd]ebugPublic/\n",
      "[Rr]elease/\n",
      "[Rr]eleases/\n",
      "x64/\n",
      "x86/\n",
      "[Ww][Ii][Nn]32/\n",
      "[Aa][Rr][Mm]/\n",
      "[Aa][Rr][Mm]64/\n",
      "bld/\n",
      "[Bb]in/\n",
      "[Oo]bj/\n",
      "[Ll]og/\n",
      "[Ll]ogs/\n",
      "\n",
      "# Visual Studio 2015/2017 cache/options directory\n",
      ".vs/\n",
      "# Uncomment if you have tasks that create the project's static files in wwwroot\n",
      "#wwwroot/\n",
      "\n",
      "# Visual Studio 2017 auto generated files\n",
      "Generated\\ Files/\n",
      "\n",
      "# MSTest test Results\n",
      "[Tt]est[Rr]esult*/\n",
      "[Bb]uild[Ll]og.*\n",
      "\n",
      "# NUnit\n",
      "*.VisualState.xml\n",
      "TestResult.xml\n",
      "nunit-*.xml\n",
      "\n",
      "# Build Results of an ATL Project\n",
      "[Dd]ebugPS/\n",
      "[Rr]eleasePS/\n",
      "dlldata.c\n",
      "\n",
      "# Benchmark Results\n",
      "BenchmarkDotNet.Artifacts/\n",
      "\n",
      "# .NET Core\n",
      "project.lock.json\n",
      "project.fragment.lock.json\n",
      "artifacts/\n",
      "\n",
      "# ASP.NET Scaffolding\n",
      "ScaffoldingReadMe.txt\n",
      "\n",
      "# StyleCop\n",
      "StyleCopReport.xml\n",
      "\n",
      "# Files built by Visual Studio\n",
      "*_i.c\n",
      "*_p.c\n",
      "*_h.h\n",
      "*.ilk\n",
      "*.meta\n",
      "*.obj\n",
      "*.iobj\n",
      "*.pch\n",
      "*.pdb\n",
      "*.ipdb\n",
      "*.pgc\n",
      "*.pgd\n",
      "*.rsp\n",
      "*.sbr\n",
      "*.tlb\n",
      "*.tli\n",
      "*.tlh\n",
      "*.tmp\n",
      "*.tmp_proj\n",
      "*_wpftmp.csproj\n",
      "*.log\n",
      "*.tlog\n",
      "*.vspscc\n",
      "*.vssscc\n",
      ".builds\n",
      "*.pidb\n",
      "*.svclog\n",
      "*.scc\n",
      "\n",
      "# Chutzpah Test files\n",
      "_Chutzpah*\n",
      "\n",
      "# Visual C++ cache files\n",
      "ipch/\n",
      "*.aps\n",
      "*.ncb\n",
      "*.opendb\n",
      "*.opensdf\n",
      "*.sdf\n",
      "*.cachefile\n",
      "*.VC.db\n",
      "*.VC.VC.opendb\n",
      "\n",
      "# Visual Studio profiler\n",
      "*.psess\n",
      "*.vsp\n",
      "*.vspx\n",
      "*.sap\n",
      "\n",
      "# Visual Studio Trace Files\n",
      "*.e2e\n",
      "\n",
      "# TFS 2012 Local Workspace\n",
      "$tf/\n",
      "\n",
      "# Guidance Automation Toolkit\n",
      "*.gpState\n",
      "\n",
      "# ReSharper is a .NET coding add-in\n",
      "_ReSharper*/\n",
      "*.[Rr]e[Ss]harper\n",
      "*.DotSettings.user\n",
      "\n",
      "# TeamCity is a build add-in\n",
      "_TeamCity*\n",
      "\n",
      "# DotCover is a Code Coverage Tool\n",
      "*.dotCover\n",
      "\n",
      "# AxoCover is a Code Coverage Tool\n",
      ".axoCover/*\n",
      "!.axoCover/settings.json\n",
      "\n",
      "# Coverlet is a free, cross platform Code Coverage Tool\n",
      "coverage*.json\n",
      "coverage*.xml\n",
      "coverage*.info\n",
      "\n",
      "# Visual Studio code coverage results\n",
      "*.coverage\n",
      "*.coveragexml\n",
      "\n",
      "# NCrunch\n",
      "_NCrunch_*\n",
      ".*crunch*.local.xml\n",
      "nCrunchTemp_*\n",
      "\n",
      "# MightyMoose\n",
      "*.mm.*\n",
      "AutoTest.Net/\n",
      "\n",
      "# Web workbench (sass)\n",
      ".sass-cache/\n",
      "\n",
      "# Installshield output folder\n",
      "[Ee]xpress/\n",
      "\n",
      "# DocProject is a documentation generator add-in\n",
      "DocProject/buildhelp/\n",
      "DocProject/Help/*.HxT\n",
      "DocProject/Help/*.HxC\n",
      "DocProject/Help/*.hhc\n",
      "DocProject/Help/*.hhk\n",
      "DocProject/Help/*.hhp\n",
      "DocProject/Help/Html2\n",
      "DocProject/Help/html\n",
      "\n",
      "# Click-Once directory\n",
      "publish/\n",
      "\n",
      "# Publish Web Output\n",
      "*.[Pp]ublish.xml\n",
      "*.azurePubxml\n",
      "# Note: Comment the next line if you want to checkin your web deploy settings,\n",
      "# but database connection strings (with potential passwords) will be unencrypted\n",
      "*.pubxml\n",
      "*.publishproj\n",
      "\n",
      "# Microsoft Azure Web App publish settings. Comment the next line if you want to\n",
      "# checkin your Azure Web App publish settings, but sensitive information contained\n",
      "# in these scripts will be unencrypted\n",
      "PublishScripts/\n",
      "\n",
      "# NuGet Packages\n",
      "*.nupkg\n",
      "# NuGet Symbol Packages\n",
      "*.snupkg\n",
      "# The packages folder can be ignored because of Package Restore\n",
      "**/[Pp]ackages/*\n",
      "# except build/, which is used as an MSBuild target.\n",
      "!**/[Pp]ackages/build/\n",
      "# Uncomment if necessary however generally it will be regenerated when needed\n",
      "#!**/[Pp]ackages/repositories.config\n",
      "# NuGet v3's project.json files produces more ignorable files\n",
      "*.nuget.props\n",
      "*.nuget.targets\n",
      "\n",
      "# Microsoft Azure Build Output\n",
      "csx/\n",
      "*.build.csdef\n",
      "\n",
      "# Microsoft Azure Emulator\n",
      "ecf/\n",
      "rcf/\n",
      "\n",
      "# Windows Store app package directories and files\n",
      "AppPackages/\n",
      "BundleArtifacts/\n",
      "Package.StoreAssociation.xml\n",
      "_pkginfo.txt\n",
      "*.appx\n",
      "*.appxbundle\n",
      "*.appxupload\n",
      "\n",
      "# Visual Studio cache files\n",
      "# files ending in .cache can be ignored\n",
      "*.[Cc]ache\n",
      "# but keep track of directories ending in .cache\n",
      "!?*.[Cc]ache/\n",
      "\n",
      "# Others\n",
      "ClientBin/\n",
      "~$*\n",
      "*~\n",
      "*.dbmdl\n",
      "*.dbproj.schemaview\n",
      "*.jfm\n",
      "*.pfx\n",
      "*.publishsettings\n",
      "orleans.codegen.cs\n",
      "\n",
      "# Including strong name files can present a security risk\n",
      "# (https://github.com/github/gitignore/pull/2483#issue-259490424)\n",
      "#*.snk\n",
      "\n",
      "# Since there are multiple workflows, uncomment next line to ignore bower_components\n",
      "# (https://github.com/github/gitignore/pull/1529#issuecomment-104372622)\n",
      "#bower_components/\n",
      "\n",
      "# RIA/Silverlight projects\n",
      "Generated_Code/\n",
      "\n",
      "# Backup & report files from converting an old project file\n",
      "# to a newer Visual Studio version. Backup files are not needed,\n",
      "# because we have git ;-)\n",
      "_UpgradeReport_Files/\n",
      "Backup*/\n",
      "UpgradeLog*.XML\n",
      "UpgradeLog*.htm\n",
      "ServiceFabricBackup/\n",
      "*.rptproj.bak\n",
      "\n",
      "# SQL Server files\n",
      "*.mdf\n",
      "*.ldf\n",
      "*.ndf\n",
      "\n",
      "# Business Intelligence projects\n",
      "*.rdl.data\n",
      "*.bim.layout\n",
      "*.bim_*.settings\n",
      "*.rptproj.rsuser\n",
      "*- [Bb]ackup.rdl\n",
      "*- [Bb]ackup ([0-9]).rdl\n",
      "*- [Bb]ackup ([0-9][0-9]).rdl\n",
      "\n",
      "# Microsoft Fakes\n",
      "FakesAssemblies/\n",
      "\n",
      "# GhostDoc plugin setting file\n",
      "*.GhostDoc.xml\n",
      "\n",
      "# Node.js Tools for Visual Studio\n",
      ".ntvs_analysis.dat\n",
      "node_modules/\n",
      "\n",
      "# Visual Studio 6 build log\n",
      "*.plg\n",
      "\n",
      "# Visual Studio 6 workspace options file\n",
      "*.opt\n",
      "\n",
      "# Visual Studio 6 auto-generated workspace file (contains which files were open etc.)\n",
      "*.vbw\n",
      "\n",
      "# Visual Studio 6 auto-generated project file (contains which files were open etc.)\n",
      "*.vbp\n",
      "\n",
      "# Visual Studio 6 workspace and project file (working project files containing files to include in project)\n",
      "*.dsw\n",
      "*.dsp\n",
      "\n",
      "# Visual Studio 6 technical files\n",
      "*.ncb\n",
      "*.aps\n",
      "\n",
      "# Visual Studio LightSwitch build output\n",
      "**/*.HTMLClient/GeneratedArtifacts\n",
      "**/*.DesktopClient/GeneratedArtifacts\n",
      "**/*.DesktopClient/ModelManifest.xml\n",
      "**/*.Server/GeneratedArtifacts\n",
      "**/*.Server/ModelManifest.xml\n",
      "_Pvt_Extensions\n",
      "\n",
      "# Paket dependency manager\n",
      ".paket/paket.exe\n",
      "paket-files/\n",
      "\n",
      "# FAKE - F# Make\n",
      ".fake/\n",
      "\n",
      "# CodeRush personal settings\n",
      ".cr/personal\n",
      "\n",
      "# Python Tools for Visual Studio (PTVS)\n",
      "__pycache__/\n",
      "*.pyc\n",
      "\n",
      "# Cake - Uncomment if you are using it\n",
      "# tools/**\n",
      "# !tools/packages.config\n",
      "\n",
      "# Tabs Studio\n",
      "*.tss\n",
      "\n",
      "# Telerik's JustMock configuration file\n",
      "*.jmconfig\n",
      "\n",
      "# BizTalk build output\n",
      "*.btp.cs\n",
      "*.btm.cs\n",
      "*.odx.cs\n",
      "*.xsd.cs\n",
      "\n",
      "# OpenCover UI analysis results\n",
      "OpenCover/\n",
      "\n",
      "# Azure Stream Analytics local run output\n",
      "ASALocalRun/\n",
      "\n",
      "# MSBuild Binary and Structured Log\n",
      "*.binlog\n",
      "\n",
      "# NVidia Nsight GPU debugger configuration file\n",
      "*.nvuser\n",
      "\n",
      "# MFractors (Xamarin productivity tool) working folder\n",
      ".mfractor/\n",
      "\n",
      "# Local History for Visual Studio\n",
      ".localhistory/\n",
      "\n",
      "# Visual Studio History (VSHistory) files\n",
      ".vshistory/\n",
      "\n",
      "# BeatPulse healthcheck temp database\n",
      "healthchecksdb\n",
      "\n",
      "# Backup folder for Package Reference Convert tool in Visual Studio 2017\n",
      "MigrationBackup/\n",
      "\n",
      "# Ionide (cross platform F# VS Code tools) working folder\n",
      ".ionide/\n",
      "\n",
      "# Fody - auto-generated XML schema\n",
      "FodyWeavers.xsd\n",
      "\n",
      "# VS Code files for those working on multiple tools\n",
      ".vscode/*\n",
      "!.vscode/settings.json\n",
      "!.vscode/tasks.json\n",
      "!.vscode/launch.json\n",
      "!.vscode/extensions.json\n",
      "*.code-workspace\n",
      "\n",
      "# Local History for Visual Studio Code\n",
      ".history/\n",
      "\n",
      "# Windows Installer files from build outputs\n",
      "*.cab\n",
      "*.msi\n",
      "*.msix\n",
      "*.msm\n",
      "*.msp\n",
      "\n",
      "# JetBrains Rider\n",
      "*.sln.iml\n",
      "\n",
      "\u001b[96m07-50-03-980-PM>pwsh Assign 'setContentOutput' (Set-Content -Path $script:savePath -Value $script:gitignoreContent -Force -Encoding utf8) \u001b[0m\n",
      "\u001b[90m$script:setContentOutput = $null\u001b[0m\n"
     ]
    }
   ],
   "source": [
    "Invoke-Command -ScriptBlock {\n",
    "    $script:gitignoreUrl = \"https://raw.githubusercontent.com/github/gitignore/main/VisualStudio.gitignore\"\n",
    "    $script:savePath = \"$PWD\\.gitignore\"\n",
    "\n",
    "    RunAndLog -ScriptBlocks @(\n",
    "        @{\n",
    "            Code = { Assign 'gitignoreContent' (Invoke-WebRequest -Uri $script:gitignoreUrl -ErrorAction Stop).Content }\n",
    "            Required = $true\n",
    "        },\n",
    "        @{\n",
    "            Code = { Assign 'setContentOutput' (Set-Content -Path $script:savePath -Value $script:gitignoreContent -Force -Encoding utf8) }\n",
    "            Required = $true\n",
    "        }\n",
    "    )\n",
    "}"
   ]
  },
  {
   "cell_type": "markdown",
   "metadata": {},
   "source": [
    "### Git add files"
   ]
  },
  {
   "cell_type": "code",
   "execution_count": null,
   "metadata": {
    "dotnet_interactive": {
     "language": "pwsh"
    },
    "polyglot_notebook": {
     "kernelName": "pwsh"
    },
    "vscode": {
     "languageId": "polyglot-notebook"
    }
   },
   "outputs": [],
   "source": [
    "Invoke-Command -ScriptBlock {\n",
    "    RunAndLog -ScriptBlocks @(\n",
    "        @{\n",
    "            Code = { Assign 'gitAdd' (git add .) }\n",
    "            Required = $true\n",
    "        }\n",
    "    )\n",
    "}"
   ]
  },
  {
   "cell_type": "markdown",
   "metadata": {},
   "source": [
    "### Commit main"
   ]
  },
  {
   "cell_type": "code",
   "execution_count": null,
   "metadata": {
    "dotnet_interactive": {
     "language": "pwsh"
    },
    "polyglot_notebook": {
     "kernelName": "pwsh"
    },
    "vscode": {
     "languageId": "polyglot-notebook"
    }
   },
   "outputs": [],
   "source": [
    "Invoke-Command -ScriptBlock {\n",
    "    RunAndLog -ScriptBlocks @(\n",
    "        @{\n",
    "            Code = { Assign 'commitMain' (git commit -m \"docs(README.md): initial commit\") }\n",
    "            Required = $true\n",
    "        }\n",
    "    )\n",
    "}"
   ]
  },
  {
   "cell_type": "code",
   "execution_count": null,
   "metadata": {
    "dotnet_interactive": {
     "language": "pwsh"
    },
    "polyglot_notebook": {
     "kernelName": "pwsh"
    },
    "vscode": {
     "languageId": "polyglot-notebook"
    }
   },
   "outputs": [],
   "source": [
    "Invoke-Command -ScriptBlock {\n",
    "    RunAndLog -ScriptBlocks @(\n",
    "        @{\n",
    "            Code = { (git add .) }\n",
    "            Required = $true\n",
    "        },\n",
    "        @{\n",
    "            Code = { Assign 'commitMainOutput' (git commit -m \"docs(README.md): initial commit output\") }\n",
    "            Required = $true\n",
    "        }\n",
    "    )\n",
    "}"
   ]
  },
  {
   "cell_type": "markdown",
   "metadata": {},
   "source": [
    "### Initialize Git Flow"
   ]
  },
  {
   "cell_type": "code",
   "execution_count": null,
   "metadata": {
    "dotnet_interactive": {
     "language": "pwsh"
    },
    "polyglot_notebook": {
     "kernelName": "pwsh"
    },
    "vscode": {
     "languageId": "polyglot-notebook"
    }
   },
   "outputs": [],
   "source": [
    "Invoke-Command -ScriptBlock {\n",
    "    RunAndLog -ScriptBlocks @(\n",
    "        @{\n",
    "            Code = { Assign 'gitFlowInitDF' (git flow init -d -f) }\n",
    "            Required = $true\n",
    "        }\n",
    "    )\n",
    "}"
   ]
  },
  {
   "cell_type": "markdown",
   "metadata": {},
   "source": [
    "### Add Origin"
   ]
  },
  {
   "cell_type": "code",
   "execution_count": null,
   "metadata": {
    "dotnet_interactive": {
     "language": "pwsh"
    },
    "polyglot_notebook": {
     "kernelName": "pwsh"
    },
    "vscode": {
     "languageId": "polyglot-notebook"
    }
   },
   "outputs": [],
   "source": [
    "Invoke-Command -ScriptBlock {\n",
    "    $script:gitUrl = 'URL_HERE'\n",
    "    RunAndLog -ScriptBlock @(\n",
    "        @{\n",
    "            Code = { Assign 'gitRemoteAddOrigin' (git remote add origin $script:gitUrl) }\n",
    "            Required = $true\n",
    "        }\n",
    "    )\n",
    "}"
   ]
  }
 ],
 "metadata": {
  "kernelspec": {
   "display_name": ".NET (C#)",
   "language": "C#",
   "name": ".net-csharp"
  },
  "language_info": {
   "name": "python"
  },
  "polyglot_notebook": {
   "kernelInfo": {
    "defaultKernelName": "csharp",
    "items": [
     {
      "aliases": [],
      "name": "csharp"
     }
    ]
   }
  }
 },
 "nbformat": 4,
 "nbformat_minor": 2
}
